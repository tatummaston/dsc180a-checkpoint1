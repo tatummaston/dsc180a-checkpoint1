{
 "cells": [
  {
   "cell_type": "code",
   "execution_count": 156,
   "metadata": {},
   "outputs": [],
   "source": [
    "import pandas as pd\n",
    "import numpy as np\n",
    "from sklearn.model_selection import train_test_split\n",
    "from sklearn import datasets, linear_model\n",
    "from sklearn.metrics import mean_squared_error, r2_score\n",
    "import matplotlib.pyplot as plt\n",
    "from matplotlib.pyplot import figure"
   ]
  },
  {
   "cell_type": "code",
   "execution_count": 166,
   "metadata": {},
   "outputs": [],
   "source": [
    "run_200_300 = pd.read_csv('data/20211026T184846_200-300-iperf.csv')\n",
    "run_200_1000 = pd.read_csv('data/20211026T184846_200-1000-iperf.csv')\n",
    "run_200_25000 = pd.read_csv('data/20211026T184846_200-25000-iperf.csv')\n",
    "run_200_5000 = pd.read_csv('data/20211026T184847_200-5000-iperf.csv')"
   ]
  },
  {
   "cell_type": "code",
   "execution_count": 167,
   "metadata": {},
   "outputs": [],
   "source": [
    "def pckt_count(a):\n",
    "    a = a.split(';')\n",
    "    a = [int(i) for i in a[:-1]]\n",
    "    return len(a)"
   ]
  },
  {
   "cell_type": "code",
   "execution_count": 168,
   "metadata": {},
   "outputs": [],
   "source": [
    "run_200_300['pck_ct'] = run_200_300['packet_times'].apply(pckt_count)\n",
    "run_200_1000['pck_ct'] = run_200_1000['packet_times'].apply(pckt_count)\n",
    "run_200_25000['pck_ct'] = run_200_25000['packet_times'].apply(pckt_count)\n",
    "run_200_5000['pck_ct'] = run_200_5000['packet_times'].apply(pckt_count)"
   ]
  },
  {
   "cell_type": "code",
   "execution_count": 169,
   "metadata": {},
   "outputs": [],
   "source": [
    "run_200_5000['packet_size_total'] = run_200_5000['1->2Pkts'] + run_200_5000['2->1Pkts']\n",
    "run_200_300['packet_size_total'] = run_200_300['1->2Pkts'] + run_200_300['2->1Pkts']\n",
    "run_200_1000['packet_size_total'] = run_200_1000['1->2Pkts'] + run_200_1000['2->1Pkts']\n",
    "run_200_25000['packet_size_total'] = run_200_25000['1->2Pkts'] + run_200_25000['2->1Pkts']"
   ]
  },
  {
   "cell_type": "code",
   "execution_count": 170,
   "metadata": {},
   "outputs": [],
   "source": [
    "ratio_200_5000  = [0.04 for i in range(310)] \n",
    "ratio_200_300 = [0.67 for i in range(324)]\n",
    "ratio_200_1000 = [0.2 for i in range(318)]\n",
    "ratio_200_25000 = [0.008 for i in range(308)]"
   ]
  },
  {
   "cell_type": "code",
   "execution_count": 171,
   "metadata": {},
   "outputs": [],
   "source": [
    "run_200_5000['ratio'] = ratio_200_5000\n",
    "run_200_300['ratio'] = ratio_200_300\n",
    "run_200_1000['ratio'] = ratio_200_1000\n",
    "run_200_25000['ratio'] = ratio_200_25000"
   ]
  },
  {
   "cell_type": "code",
   "execution_count": 163,
   "metadata": {},
   "outputs": [],
   "source": [
    "#optional - take out first 25 seconds of data\n",
    "run_200_5000 = run_200_5000[25:]\n",
    "run_200_300 = run_200_300[25:]\n",
    "run_200_1000 = run_200_1000[25:]\n",
    "run_200_25000 = run_200_25000[25:]"
   ]
  },
  {
   "cell_type": "code",
   "execution_count": 172,
   "metadata": {},
   "outputs": [],
   "source": [
    "def agg_10sec(df):\n",
    "    new_df = pd.DataFrame()\n",
    "    min_time = df[\"Time\"][0]\n",
    "    ratio = df[\"ratio\"][0]\n",
    "    while min_time < df[\"Time\"][len(df)-1]:\n",
    "        temp_df = df[(df[\"Time\"] >= min_time) & (df[\"Time\"] < min_time+10)]\n",
    "        row = temp_df[[\"1->2Bytes\", \"2->1Bytes\", \"1->2Pkts\", \"2->1Pkts\", \"packet_size_total\", \"pck_ct\"]].sum().to_frame().T\n",
    "        row[\"packet_sizes_var\"] = temp_df[\"packet_size_total\"].var()\n",
    "        row[\"Time\"] = min_time\n",
    "        row[\"ratio\"] = ratio\n",
    "        new_df = new_df.append(row)\n",
    "        min_time += 10\n",
    "    return new_df.reset_index(drop=True)"
   ]
  },
  {
   "cell_type": "code",
   "execution_count": 173,
   "metadata": {},
   "outputs": [],
   "source": [
    "agg_200_300 = agg_10sec(run_200_300)\n",
    "agg_200_1000 = agg_10sec(run_200_1000)\n",
    "agg_200_5000 = agg_10sec(run_200_5000)\n",
    "agg_200_25000 = agg_10sec(run_200_25000)"
   ]
  },
  {
   "cell_type": "code",
   "execution_count": 174,
   "metadata": {},
   "outputs": [],
   "source": [
    "full_df = pd.concat([agg_200_300, agg_200_1000, agg_200_5000, agg_200_25000])"
   ]
  },
  {
   "cell_type": "code",
   "execution_count": 175,
   "metadata": {},
   "outputs": [
    {
     "data": {
      "text/html": [
       "<div>\n",
       "<style scoped>\n",
       "    .dataframe tbody tr th:only-of-type {\n",
       "        vertical-align: middle;\n",
       "    }\n",
       "\n",
       "    .dataframe tbody tr th {\n",
       "        vertical-align: top;\n",
       "    }\n",
       "\n",
       "    .dataframe thead th {\n",
       "        text-align: right;\n",
       "    }\n",
       "</style>\n",
       "<table border=\"1\" class=\"dataframe\">\n",
       "  <thead>\n",
       "    <tr style=\"text-align: right;\">\n",
       "      <th></th>\n",
       "      <th>1-&gt;2Bytes</th>\n",
       "      <th>2-&gt;1Bytes</th>\n",
       "      <th>1-&gt;2Pkts</th>\n",
       "      <th>2-&gt;1Pkts</th>\n",
       "      <th>packet_size_total</th>\n",
       "      <th>pck_ct</th>\n",
       "      <th>packet_sizes_var</th>\n",
       "      <th>Time</th>\n",
       "      <th>ratio</th>\n",
       "    </tr>\n",
       "  </thead>\n",
       "  <tbody>\n",
       "    <tr>\n",
       "      <td>0</td>\n",
       "      <td>3574904</td>\n",
       "      <td>80308</td>\n",
       "      <td>2388</td>\n",
       "      <td>1385</td>\n",
       "      <td>3773</td>\n",
       "      <td>3773</td>\n",
       "      <td>110925.174242</td>\n",
       "      <td>1635274126</td>\n",
       "      <td>0.670</td>\n",
       "    </tr>\n",
       "    <tr>\n",
       "      <td>1</td>\n",
       "      <td>1663556</td>\n",
       "      <td>15576</td>\n",
       "      <td>1110</td>\n",
       "      <td>288</td>\n",
       "      <td>1398</td>\n",
       "      <td>1398</td>\n",
       "      <td>2329.090909</td>\n",
       "      <td>1635274136</td>\n",
       "      <td>0.670</td>\n",
       "    </tr>\n",
       "    <tr>\n",
       "      <td>2</td>\n",
       "      <td>1458056</td>\n",
       "      <td>12760</td>\n",
       "      <td>973</td>\n",
       "      <td>238</td>\n",
       "      <td>1211</td>\n",
       "      <td>1211</td>\n",
       "      <td>1558.490909</td>\n",
       "      <td>1635274146</td>\n",
       "      <td>0.670</td>\n",
       "    </tr>\n",
       "    <tr>\n",
       "      <td>3</td>\n",
       "      <td>1459500</td>\n",
       "      <td>14576</td>\n",
       "      <td>973</td>\n",
       "      <td>272</td>\n",
       "      <td>1245</td>\n",
       "      <td>1245</td>\n",
       "      <td>188.055556</td>\n",
       "      <td>1635274156</td>\n",
       "      <td>0.670</td>\n",
       "    </tr>\n",
       "    <tr>\n",
       "      <td>4</td>\n",
       "      <td>1411500</td>\n",
       "      <td>15008</td>\n",
       "      <td>941</td>\n",
       "      <td>278</td>\n",
       "      <td>1219</td>\n",
       "      <td>1219</td>\n",
       "      <td>154.322222</td>\n",
       "      <td>1635274166</td>\n",
       "      <td>0.670</td>\n",
       "    </tr>\n",
       "    <tr>\n",
       "      <td>...</td>\n",
       "      <td>...</td>\n",
       "      <td>...</td>\n",
       "      <td>...</td>\n",
       "      <td>...</td>\n",
       "      <td>...</td>\n",
       "      <td>...</td>\n",
       "      <td>...</td>\n",
       "      <td>...</td>\n",
       "      <td>...</td>\n",
       "    </tr>\n",
       "    <tr>\n",
       "      <td>25</td>\n",
       "      <td>32833500</td>\n",
       "      <td>413324</td>\n",
       "      <td>21889</td>\n",
       "      <td>7919</td>\n",
       "      <td>29808</td>\n",
       "      <td>29808</td>\n",
       "      <td>215362.844444</td>\n",
       "      <td>1635274377</td>\n",
       "      <td>0.008</td>\n",
       "    </tr>\n",
       "    <tr>\n",
       "      <td>26</td>\n",
       "      <td>33055556</td>\n",
       "      <td>377144</td>\n",
       "      <td>22038</td>\n",
       "      <td>7223</td>\n",
       "      <td>29261</td>\n",
       "      <td>29261</td>\n",
       "      <td>892171.690909</td>\n",
       "      <td>1635274387</td>\n",
       "      <td>0.008</td>\n",
       "    </tr>\n",
       "    <tr>\n",
       "      <td>27</td>\n",
       "      <td>33223500</td>\n",
       "      <td>388016</td>\n",
       "      <td>22149</td>\n",
       "      <td>7430</td>\n",
       "      <td>29579</td>\n",
       "      <td>29579</td>\n",
       "      <td>151043.655556</td>\n",
       "      <td>1635274397</td>\n",
       "      <td>0.008</td>\n",
       "    </tr>\n",
       "    <tr>\n",
       "      <td>28</td>\n",
       "      <td>33231000</td>\n",
       "      <td>387564</td>\n",
       "      <td>22154</td>\n",
       "      <td>7425</td>\n",
       "      <td>29579</td>\n",
       "      <td>29579</td>\n",
       "      <td>162448.544444</td>\n",
       "      <td>1635274407</td>\n",
       "      <td>0.008</td>\n",
       "    </tr>\n",
       "    <tr>\n",
       "      <td>29</td>\n",
       "      <td>33361500</td>\n",
       "      <td>398928</td>\n",
       "      <td>22241</td>\n",
       "      <td>7644</td>\n",
       "      <td>29885</td>\n",
       "      <td>29885</td>\n",
       "      <td>191030.944444</td>\n",
       "      <td>1635274417</td>\n",
       "      <td>0.008</td>\n",
       "    </tr>\n",
       "  </tbody>\n",
       "</table>\n",
       "<p>124 rows × 9 columns</p>\n",
       "</div>"
      ],
      "text/plain": [
       "    1->2Bytes  2->1Bytes  1->2Pkts  2->1Pkts  packet_size_total  pck_ct  \\\n",
       "0     3574904      80308      2388      1385               3773    3773   \n",
       "1     1663556      15576      1110       288               1398    1398   \n",
       "2     1458056      12760       973       238               1211    1211   \n",
       "3     1459500      14576       973       272               1245    1245   \n",
       "4     1411500      15008       941       278               1219    1219   \n",
       "..        ...        ...       ...       ...                ...     ...   \n",
       "25   32833500     413324     21889      7919              29808   29808   \n",
       "26   33055556     377144     22038      7223              29261   29261   \n",
       "27   33223500     388016     22149      7430              29579   29579   \n",
       "28   33231000     387564     22154      7425              29579   29579   \n",
       "29   33361500     398928     22241      7644              29885   29885   \n",
       "\n",
       "    packet_sizes_var        Time  ratio  \n",
       "0      110925.174242  1635274126  0.670  \n",
       "1        2329.090909  1635274136  0.670  \n",
       "2        1558.490909  1635274146  0.670  \n",
       "3         188.055556  1635274156  0.670  \n",
       "4         154.322222  1635274166  0.670  \n",
       "..               ...         ...    ...  \n",
       "25     215362.844444  1635274377  0.008  \n",
       "26     892171.690909  1635274387  0.008  \n",
       "27     151043.655556  1635274397  0.008  \n",
       "28     162448.544444  1635274407  0.008  \n",
       "29     191030.944444  1635274417  0.008  \n",
       "\n",
       "[124 rows x 9 columns]"
      ]
     },
     "execution_count": 175,
     "metadata": {},
     "output_type": "execute_result"
    }
   ],
   "source": [
    "full_df"
   ]
  },
  {
   "cell_type": "code",
   "execution_count": 178,
   "metadata": {},
   "outputs": [
    {
     "name": "stdout",
     "output_type": "stream",
     "text": [
      "Coefficients: \n",
      " [-8.55909837e-06 -8.55909837e-06  2.47716419e-08 -3.95488031e-05]\n",
      "Mean squared error: 0.04\n",
      "Coefficient of determination: 0.47\n"
     ]
    }
   ],
   "source": [
    "# Load the diabetes dataset\n",
    "features = ['packet_size_total', 'pck_ct', 'packet_sizes_var', 'Time']\n",
    "df_X = full_df[features]\n",
    "df_y = full_df['ratio']\n",
    "\n",
    "# Use only one feature\n",
    "#diabetes_X = diabetes_X[:, np.newaxis, 2]\n",
    "\n",
    "# Split the data into training/testing sets\n",
    "X_train, X_rem, y_train, y_rem = train_test_split(df_X, df_y, train_size=0.8, random_state=42)\n",
    "\n",
    "X_valid, X_test, y_valid, y_test = train_test_split(X_rem, y_rem, test_size=0.5)\n",
    "\n",
    "# Create linear regression object\n",
    "regr = linear_model.LinearRegression()\n",
    "\n",
    "# Train the model using the training sets\n",
    "regr.fit(X_train, y_train)\n",
    "\n",
    "# Make predictions using the testing set\n",
    "y_pred = regr.predict(X_test)\n",
    "\n",
    "# The coefficients\n",
    "print(\"Coefficients: \\n\", regr.coef_)\n",
    "# The mean squared error\n",
    "print(\"Mean squared error: %.2f\" % mean_squared_error(y_test, y_pred))\n",
    "# The coefficient of determination: 1 is perfect prediction\n",
    "print(\"Coefficient of determination: %.2f\" % r2_score(y_test, y_pred))"
   ]
  },
  {
   "cell_type": "code",
   "execution_count": null,
   "metadata": {},
   "outputs": [],
   "source": []
  },
  {
   "cell_type": "code",
   "execution_count": 150,
   "metadata": {},
   "outputs": [
    {
     "ename": "ValueError",
     "evalue": "x and y must be the same size",
     "output_type": "error",
     "traceback": [
      "\u001b[0;31m---------------------------------------------------------------------------\u001b[0m",
      "\u001b[0;31mValueError\u001b[0m                                Traceback (most recent call last)",
      "\u001b[0;32m<ipython-input-150-99b492880fdb>\u001b[0m in \u001b[0;36m<module>\u001b[0;34m\u001b[0m\n\u001b[1;32m      1\u001b[0m \u001b[0;31m# Plot outputs\u001b[0m\u001b[0;34m\u001b[0m\u001b[0;34m\u001b[0m\u001b[0;34m\u001b[0m\u001b[0m\n\u001b[0;32m----> 2\u001b[0;31m \u001b[0mplt\u001b[0m\u001b[0;34m.\u001b[0m\u001b[0mscatter\u001b[0m\u001b[0;34m(\u001b[0m\u001b[0mX_test\u001b[0m\u001b[0;34m,\u001b[0m \u001b[0my_test\u001b[0m\u001b[0;34m,\u001b[0m \u001b[0mcolor\u001b[0m\u001b[0;34m=\u001b[0m\u001b[0;34m\"black\"\u001b[0m\u001b[0;34m)\u001b[0m\u001b[0;34m\u001b[0m\u001b[0;34m\u001b[0m\u001b[0m\n\u001b[0m\u001b[1;32m      3\u001b[0m \u001b[0mplt\u001b[0m\u001b[0;34m.\u001b[0m\u001b[0mplot\u001b[0m\u001b[0;34m(\u001b[0m\u001b[0mX_test\u001b[0m\u001b[0;34m,\u001b[0m \u001b[0my_pred\u001b[0m\u001b[0;34m,\u001b[0m \u001b[0mcolor\u001b[0m\u001b[0;34m=\u001b[0m\u001b[0;34m\"blue\"\u001b[0m\u001b[0;34m,\u001b[0m \u001b[0mlinewidth\u001b[0m\u001b[0;34m=\u001b[0m\u001b[0;36m3\u001b[0m\u001b[0;34m)\u001b[0m\u001b[0;34m\u001b[0m\u001b[0;34m\u001b[0m\u001b[0m\n\u001b[1;32m      4\u001b[0m \u001b[0;34m\u001b[0m\u001b[0m\n\u001b[1;32m      5\u001b[0m \u001b[0mplt\u001b[0m\u001b[0;34m.\u001b[0m\u001b[0mxticks\u001b[0m\u001b[0;34m(\u001b[0m\u001b[0;34m(\u001b[0m\u001b[0;34m)\u001b[0m\u001b[0;34m)\u001b[0m\u001b[0;34m\u001b[0m\u001b[0;34m\u001b[0m\u001b[0m\n",
      "\u001b[0;32m/opt/anaconda3/lib/python3.7/site-packages/matplotlib/pyplot.py\u001b[0m in \u001b[0;36mscatter\u001b[0;34m(x, y, s, c, marker, cmap, norm, vmin, vmax, alpha, linewidths, verts, edgecolors, plotnonfinite, data, **kwargs)\u001b[0m\n\u001b[1;32m   2845\u001b[0m         \u001b[0mverts\u001b[0m\u001b[0;34m=\u001b[0m\u001b[0mverts\u001b[0m\u001b[0;34m,\u001b[0m \u001b[0medgecolors\u001b[0m\u001b[0;34m=\u001b[0m\u001b[0medgecolors\u001b[0m\u001b[0;34m,\u001b[0m\u001b[0;34m\u001b[0m\u001b[0;34m\u001b[0m\u001b[0m\n\u001b[1;32m   2846\u001b[0m         plotnonfinite=plotnonfinite, **({\"data\": data} if data is not\n\u001b[0;32m-> 2847\u001b[0;31m         None else {}), **kwargs)\n\u001b[0m\u001b[1;32m   2848\u001b[0m     \u001b[0msci\u001b[0m\u001b[0;34m(\u001b[0m\u001b[0m__ret\u001b[0m\u001b[0;34m)\u001b[0m\u001b[0;34m\u001b[0m\u001b[0;34m\u001b[0m\u001b[0m\n\u001b[1;32m   2849\u001b[0m     \u001b[0;32mreturn\u001b[0m \u001b[0m__ret\u001b[0m\u001b[0;34m\u001b[0m\u001b[0;34m\u001b[0m\u001b[0m\n",
      "\u001b[0;32m/opt/anaconda3/lib/python3.7/site-packages/matplotlib/__init__.py\u001b[0m in \u001b[0;36minner\u001b[0;34m(ax, data, *args, **kwargs)\u001b[0m\n\u001b[1;32m   1599\u001b[0m     \u001b[0;32mdef\u001b[0m \u001b[0minner\u001b[0m\u001b[0;34m(\u001b[0m\u001b[0max\u001b[0m\u001b[0;34m,\u001b[0m \u001b[0;34m*\u001b[0m\u001b[0margs\u001b[0m\u001b[0;34m,\u001b[0m \u001b[0mdata\u001b[0m\u001b[0;34m=\u001b[0m\u001b[0;32mNone\u001b[0m\u001b[0;34m,\u001b[0m \u001b[0;34m**\u001b[0m\u001b[0mkwargs\u001b[0m\u001b[0;34m)\u001b[0m\u001b[0;34m:\u001b[0m\u001b[0;34m\u001b[0m\u001b[0;34m\u001b[0m\u001b[0m\n\u001b[1;32m   1600\u001b[0m         \u001b[0;32mif\u001b[0m \u001b[0mdata\u001b[0m \u001b[0;32mis\u001b[0m \u001b[0;32mNone\u001b[0m\u001b[0;34m:\u001b[0m\u001b[0;34m\u001b[0m\u001b[0;34m\u001b[0m\u001b[0m\n\u001b[0;32m-> 1601\u001b[0;31m             \u001b[0;32mreturn\u001b[0m \u001b[0mfunc\u001b[0m\u001b[0;34m(\u001b[0m\u001b[0max\u001b[0m\u001b[0;34m,\u001b[0m \u001b[0;34m*\u001b[0m\u001b[0mmap\u001b[0m\u001b[0;34m(\u001b[0m\u001b[0msanitize_sequence\u001b[0m\u001b[0;34m,\u001b[0m \u001b[0margs\u001b[0m\u001b[0;34m)\u001b[0m\u001b[0;34m,\u001b[0m \u001b[0;34m**\u001b[0m\u001b[0mkwargs\u001b[0m\u001b[0;34m)\u001b[0m\u001b[0;34m\u001b[0m\u001b[0;34m\u001b[0m\u001b[0m\n\u001b[0m\u001b[1;32m   1602\u001b[0m \u001b[0;34m\u001b[0m\u001b[0m\n\u001b[1;32m   1603\u001b[0m         \u001b[0mbound\u001b[0m \u001b[0;34m=\u001b[0m \u001b[0mnew_sig\u001b[0m\u001b[0;34m.\u001b[0m\u001b[0mbind\u001b[0m\u001b[0;34m(\u001b[0m\u001b[0max\u001b[0m\u001b[0;34m,\u001b[0m \u001b[0;34m*\u001b[0m\u001b[0margs\u001b[0m\u001b[0;34m,\u001b[0m \u001b[0;34m**\u001b[0m\u001b[0mkwargs\u001b[0m\u001b[0;34m)\u001b[0m\u001b[0;34m\u001b[0m\u001b[0;34m\u001b[0m\u001b[0m\n",
      "\u001b[0;32m/opt/anaconda3/lib/python3.7/site-packages/matplotlib/axes/_axes.py\u001b[0m in \u001b[0;36mscatter\u001b[0;34m(self, x, y, s, c, marker, cmap, norm, vmin, vmax, alpha, linewidths, verts, edgecolors, plotnonfinite, **kwargs)\u001b[0m\n\u001b[1;32m   4442\u001b[0m         \u001b[0my\u001b[0m \u001b[0;34m=\u001b[0m \u001b[0mnp\u001b[0m\u001b[0;34m.\u001b[0m\u001b[0mma\u001b[0m\u001b[0;34m.\u001b[0m\u001b[0mravel\u001b[0m\u001b[0;34m(\u001b[0m\u001b[0my\u001b[0m\u001b[0;34m)\u001b[0m\u001b[0;34m\u001b[0m\u001b[0;34m\u001b[0m\u001b[0m\n\u001b[1;32m   4443\u001b[0m         \u001b[0;32mif\u001b[0m \u001b[0mx\u001b[0m\u001b[0;34m.\u001b[0m\u001b[0msize\u001b[0m \u001b[0;34m!=\u001b[0m \u001b[0my\u001b[0m\u001b[0;34m.\u001b[0m\u001b[0msize\u001b[0m\u001b[0;34m:\u001b[0m\u001b[0;34m\u001b[0m\u001b[0;34m\u001b[0m\u001b[0m\n\u001b[0;32m-> 4444\u001b[0;31m             \u001b[0;32mraise\u001b[0m \u001b[0mValueError\u001b[0m\u001b[0;34m(\u001b[0m\u001b[0;34m\"x and y must be the same size\"\u001b[0m\u001b[0;34m)\u001b[0m\u001b[0;34m\u001b[0m\u001b[0;34m\u001b[0m\u001b[0m\n\u001b[0m\u001b[1;32m   4445\u001b[0m \u001b[0;34m\u001b[0m\u001b[0m\n\u001b[1;32m   4446\u001b[0m         \u001b[0;32mif\u001b[0m \u001b[0ms\u001b[0m \u001b[0;32mis\u001b[0m \u001b[0;32mNone\u001b[0m\u001b[0;34m:\u001b[0m\u001b[0;34m\u001b[0m\u001b[0;34m\u001b[0m\u001b[0m\n",
      "\u001b[0;31mValueError\u001b[0m: x and y must be the same size"
     ]
    },
    {
     "data": {
      "image/png": "[encoded data removed]",
      "text/plain": [
       "<Figure size 432x288 with 1 Axes>"
      ]
     },
     "metadata": {
      "needs_background": "light"
     },
     "output_type": "display_data"
    }
   ],
   "source": [
    "# Plot outputs\n",
    "plt.scatter(X_test, y_test, color=\"black\")\n",
    "plt.plot(X_test, y_pred, color=\"blue\", linewidth=3)\n",
    "\n",
    "plt.xticks(())\n",
    "plt.yticks(())\n",
    "\n",
    "plt.show()"
   ]
  },
  {
   "cell_type": "code",
   "execution_count": null,
   "metadata": {},
   "outputs": [],
   "source": []
  }
 ],
 "metadata": {
  "kernelspec": {
   "display_name": "Python 3",
   "language": "python",
   "name": "python3"
  },
  "language_info": {
   "codemirror_mode": {
    "name": "ipython",
    "version": 3
   },
   "file_extension": ".py",
   "mimetype": "text/x-python",
   "name": "python",
   "nbconvert_exporter": "python",
   "pygments_lexer": "ipython3",
   "version": "3.7.4"
  }
 },
 "nbformat": 4,
 "nbformat_minor": 2
}
