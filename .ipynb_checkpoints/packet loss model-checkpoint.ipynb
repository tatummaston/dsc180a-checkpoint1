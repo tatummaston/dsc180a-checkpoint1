{
 "cells": [
  {
   "cell_type": "code",
   "execution_count": 2,
   "metadata": {},
   "outputs": [],
   "source": [
    "import pandas as pd\n",
    "import numpy as np\n",
    "from sklearn.model_selection import train_test_split\n",
    "from sklearn import datasets, linear_model\n",
    "from sklearn.metrics import mean_squared_error, r2_score\n",
    "import matplotlib.pyplot as plt\n",
    "from matplotlib.pyplot import figure"
   ]
  },
  {
   "cell_type": "code",
   "execution_count": 2,
   "metadata": {},
   "outputs": [],
   "source": [
    "run_200_300 = pd.read_csv('data/20211026T184846_200-300-iperf.csv')\n",
    "run_200_1000 = pd.read_csv('data/20211026T184846_200-1000-iperf.csv')\n",
    "run_200_25000 = pd.read_csv('data/20211026T184846_200-25000-iperf.csv')\n",
    "run_200_5000 = pd.read_csv('data/20211026T184847_200-5000-iperf.csv')"
   ]
  },
  {
   "cell_type": "code",
   "execution_count": 3,
   "metadata": {},
   "outputs": [],
   "source": [
    "def pckt_count(a):\n",
    "    a = a.split(';')\n",
    "    a = [int(i) for i in a[:-1]]\n",
    "    return len(a)"
   ]
  },
  {
   "cell_type": "code",
   "execution_count": 4,
   "metadata": {},
   "outputs": [],
   "source": [
    "run_200_300['pck_ct'] = run_200_300['packet_times'].apply(pckt_count)\n",
    "run_200_1000['pck_ct'] = run_200_1000['packet_times'].apply(pckt_count)\n",
    "run_200_25000['pck_ct'] = run_200_25000['packet_times'].apply(pckt_count)\n",
    "run_200_5000['pck_ct'] = run_200_5000['packet_times'].apply(pckt_count)"
   ]
  },
  {
   "cell_type": "code",
   "execution_count": 5,
   "metadata": {},
   "outputs": [],
   "source": [
    "run_200_5000['packet_size_total'] = run_200_5000['1->2Pkts'] + run_200_5000['2->1Pkts']\n",
    "run_200_300['packet_size_total'] = run_200_300['1->2Pkts'] + run_200_300['2->1Pkts']\n",
    "run_200_1000['packet_size_total'] = run_200_1000['1->2Pkts'] + run_200_1000['2->1Pkts']\n",
    "run_200_25000['packet_size_total'] = run_200_25000['1->2Pkts'] + run_200_25000['2->1Pkts']"
   ]
  },
  {
   "cell_type": "code",
   "execution_count": 6,
   "metadata": {},
   "outputs": [],
   "source": [
    "ratio_200_5000  = [0.04 for i in range(310)] \n",
    "ratio_200_300 = [0.67 for i in range(324)]\n",
    "ratio_200_1000 = [0.2 for i in range(318)]\n",
    "ratio_200_25000 = [0.008 for i in range(308)]"
   ]
  },
  {
   "cell_type": "code",
   "execution_count": 7,
   "metadata": {},
   "outputs": [],
   "source": [
    "run_200_5000['ratio'] = ratio_200_5000\n",
    "run_200_300['ratio'] = ratio_200_300\n",
    "run_200_1000['ratio'] = ratio_200_1000\n",
    "run_200_25000['ratio'] = ratio_200_25000"
   ]
  },
  {
   "cell_type": "code",
   "execution_count": null,
   "metadata": {},
   "outputs": [],
   "source": [
    "#optional - take out first 25 seconds of data\n",
    "run_200_5000 = run_200_5000[25:]\n",
    "run_200_300 = run_200_300[25:]\n",
    "run_200_1000 = run_200_1000[25:]\n",
    "run_200_25000 = run_200_25000[25:]"
   ]
  },
  {
   "cell_type": "code",
   "execution_count": 8,
   "metadata": {},
   "outputs": [],
   "source": [
    "def agg_10sec(df):\n",
    "    new_df = pd.DataFrame()\n",
    "    min_time = df[\"Time\"][0]\n",
    "    ratio = df[\"ratio\"][0]\n",
    "    while min_time < df[\"Time\"][len(df)-1]:\n",
    "        temp_df = df[(df[\"Time\"] >= min_time) & (df[\"Time\"] < min_time+10)]\n",
    "        row = temp_df[[\"1->2Bytes\", \"2->1Bytes\", \"1->2Pkts\", \"2->1Pkts\", \"packet_size_total\", \"pck_ct\"]].sum().to_frame().T\n",
    "        row[\"packet_sizes_var\"] = temp_df[\"packet_size_total\"].var()\n",
    "        row[\"Time\"] = min_time\n",
    "        row[\"ratio\"] = ratio\n",
    "        new_df = new_df.append(row)\n",
    "        min_time += 10\n",
    "    return new_df.reset_index(drop=True)"
   ]
  },
  {
   "cell_type": "code",
   "execution_count": 9,
   "metadata": {},
   "outputs": [],
   "source": [
    "agg_200_300 = agg_10sec(run_200_300)\n",
    "agg_200_1000 = agg_10sec(run_200_1000)\n",
    "agg_200_5000 = agg_10sec(run_200_5000)\n",
    "agg_200_25000 = agg_10sec(run_200_25000)"
   ]
  },
  {
   "cell_type": "code",
   "execution_count": 10,
   "metadata": {},
   "outputs": [],
   "source": [
    "full_df = pd.concat([agg_200_300, agg_200_1000, agg_200_25000])\n",
    "test_df = agg_200_5000"
   ]
  },
  {
   "cell_type": "code",
   "execution_count": 15,
   "metadata": {},
   "outputs": [
    {
     "name": "stdout",
     "output_type": "stream",
     "text": [
      "Coefficients: \n",
      " [-8.78200414e-06 -8.78200414e-06  5.39111186e-09  4.70161830e-05]\n",
      "Mean squared error: 0.07\n",
      "Coefficient of determination: -1353944110167955897265240168988672.00\n"
     ]
    }
   ],
   "source": [
    "###PARTIAL DATASET\n",
    "full_df = pd.concat([agg_200_300, agg_200_1000, agg_200_25000])\n",
    "test_df = agg_200_5000\n",
    "\n",
    "# Load the diabetes dataset\n",
    "features = ['packet_size_total', 'pck_ct', 'packet_sizes_var', 'Time']\n",
    "\n",
    "# Use only one feature\n",
    "#diabetes_X = diabetes_X[:, np.newaxis, 2]\n",
    "\n",
    "# Split the data into training/testing sets\n",
    "X_train = full_df[features]\n",
    "y_train = full_df['ratio']\n",
    "X_test = test_df[features]\n",
    "y_test = test_df['ratio']\n",
    "\n",
    "# Create linear regression object\n",
    "regr = linear_model.LinearRegression()\n",
    "\n",
    "# Train the model using the training sets\n",
    "regr.fit(X_train, y_train)\n",
    "\n",
    "# Make predictions using the testing set\n",
    "y_pred = regr.predict(X_test)\n",
    "\n",
    "# The coefficients\n",
    "print(\"Coefficients: \\n\", regr.coef_)\n",
    "# The mean squared error\n",
    "print(\"Mean squared error: %.2f\" % mean_squared_error(y_test, y_pred))\n",
    "# The coefficient of determination: 1 is perfect prediction\n",
    "print(\"Coefficient of determination: %.2f\" % r2_score(y_test, y_pred))"
   ]
  },
  {
   "cell_type": "code",
   "execution_count": null,
   "metadata": {},
   "outputs": [],
   "source": []
  },
  {
   "cell_type": "code",
   "execution_count": 14,
   "metadata": {},
   "outputs": [
    {
     "name": "stdout",
     "output_type": "stream",
     "text": [
      "Coefficients: \n",
      " [-8.55909837e-06 -8.55909837e-06  2.47716419e-08 -3.95488031e-05]\n",
      "Mean squared error: 0.04\n",
      "Coefficient of determination: 0.52\n"
     ]
    }
   ],
   "source": [
    "###ENTIRE DATASET\n",
    "full_df = pd.concat([agg_200_300, agg_200_1000, agg_200_5000, agg_200_25000])\n",
    "\n",
    "# Load the diabetes dataset\n",
    "features = ['packet_size_total', 'pck_ct', 'packet_sizes_var', 'Time']\n",
    "df_X = full_df[features]\n",
    "df_y = full_df['ratio']\n",
    "\n",
    "# Use only one feature\n",
    "#diabetes_X = diabetes_X[:, np.newaxis, 2]\n",
    "\n",
    "# Split the data into training/testing sets\n",
    "X_train, X_rem, y_train, y_rem = train_test_split(df_X, df_y, train_size=0.8, random_state=42)\n",
    "\n",
    "X_valid, X_test, y_valid, y_test = train_test_split(X_rem, y_rem, test_size=0.5)\n",
    "\n",
    "# Create linear regression object\n",
    "regr = linear_model.LinearRegression()\n",
    "\n",
    "# Train the model using the training sets\n",
    "regr.fit(X_train, y_train)\n",
    "\n",
    "# Make predictions using the testing set\n",
    "y_pred = regr.predict(X_test)\n",
    "\n",
    "# The coefficients\n",
    "print(\"Coefficients: \\n\", regr.coef_)\n",
    "# The mean squared error\n",
    "print(\"Mean squared error: %.2f\" % mean_squared_error(y_test, y_pred))\n",
    "# The coefficient of determination: 1 is perfect prediction\n",
    "print(\"Coefficient of determination: %.2f\" % r2_score(y_test, y_pred))"
   ]
  },
  {
   "cell_type": "code",
   "execution_count": null,
   "metadata": {},
   "outputs": [],
   "source": []
  },
  {
   "cell_type": "code",
   "execution_count": null,
   "metadata": {},
   "outputs": [],
   "source": [
    "# Plot outputs\n",
    "plt.scatter(X_test, y_test, color=\"black\")\n",
    "plt.plot(X_test, y_pred, color=\"blue\", linewidth=3)\n",
    "\n",
    "plt.xticks(())\n",
    "plt.yticks(())\n",
    "\n",
    "plt.show()"
   ]
  },
  {
   "cell_type": "code",
   "execution_count": null,
   "metadata": {},
   "outputs": [],
   "source": []
  }
 ],
 "metadata": {
  "kernelspec": {
   "display_name": "Python 3",
   "language": "python",
   "name": "python3"
  },
  "language_info": {
   "codemirror_mode": {
    "name": "ipython",
    "version": 3
   },
   "file_extension": ".py",
   "mimetype": "text/x-python",
   "name": "python",
   "nbconvert_exporter": "python",
   "pygments_lexer": "ipython3",
   "version": "3.7.4"
  }
 },
 "nbformat": 4,
 "nbformat_minor": 2
}
