{
 "cells": [
  {
   "cell_type": "code",
   "execution_count": 1,
   "metadata": {},
   "outputs": [],
   "source": [
    "import pandas as pd\n",
    "import numpy as np\n",
    "from sklearn.model_selection import train_test_split\n",
    "from sklearn import datasets, linear_model\n",
    "from sklearn.metrics import mean_squared_error, r2_score\n",
    "import matplotlib.pyplot as plt\n",
    "from matplotlib.pyplot import figure"
   ]
  },
  {
   "cell_type": "code",
   "execution_count": 2,
   "metadata": {},
   "outputs": [],
   "source": [
    "run_200_1000 = pd.read_csv('data/20211026T184846_200-1000-iperf.csv')"
   ]
  },
  {
   "cell_type": "code",
   "execution_count": 7,
   "metadata": {},
   "outputs": [],
   "source": [
    "def pckt_count(a):\n",
    "    a = a.split(';')\n",
    "    a = [int(i) for i in a[:-1]]\n",
    "    return len(a)\n",
    "\n",
    "run_200_1000['pck_ct'] = run_200_1000['packet_times'].apply(pckt_count)\n",
    "\n",
    "run_200_1000['packet_size_total'] = run_200_1000['1->2Pkts'] + run_200_1000['2->1Pkts']\n",
    "\n",
    "ratio_200_1000 = [0.2 for i in range(318)]\n",
    "\n",
    "run_200_1000['ratio'] = ratio_200_1000\n",
    "\n",
    "def agg_10sec(df):\n",
    "    new_df = pd.DataFrame()\n",
    "    min_time = df[\"Time\"][0]\n",
    "    ratio = df[\"ratio\"][0]\n",
    "    while min_time < df[\"Time\"][len(df)-1]:\n",
    "        temp_df = df[(df[\"Time\"] >= min_time) & (df[\"Time\"] < min_time+10)]\n",
    "        row = temp_df[[\"1->2Bytes\", \"2->1Bytes\", \"1->2Pkts\", \"2->1Pkts\", \"packet_size_total\", \"pck_ct\"]].sum().to_frame().T\n",
    "        row[\"packet_sizes_var\"] = temp_df[\"packet_size_total\"].var()\n",
    "        row[\"Time\"] = min_time\n",
    "        row[\"ratio\"] = ratio\n",
    "        new_df = new_df.append(row)\n",
    "        min_time += 10\n",
    "    return new_df.reset_index(drop=True)\n",
    "\n",
    "agg_200_1000 = agg_10sec(run_200_1000)\n",
    "\n",
    "agg_200_1000['latency'] = [200] * len(agg_200_1000)"
   ]
  },
  {
   "cell_type": "code",
   "execution_count": 10,
   "metadata": {},
   "outputs": [],
   "source": [
    "full_df = pd.concat([agg_200_1000])"
   ]
  },
  {
   "cell_type": "code",
   "execution_count": 11,
   "metadata": {},
   "outputs": [
    {
     "name": "stdout",
     "output_type": "stream",
     "text": [
      "Coefficients: \n",
      " [0. 0. 0. 0. 0.]\n",
      "Mean squared error: 0.00\n",
      "Coefficient of determination: 1.00\n"
     ]
    }
   ],
   "source": [
    "# Load the diabetes dataset\n",
    "features = ['packet_size_total', 'pck_ct', 'packet_sizes_var', 'Time', 'ratio']\n",
    "df_X = full_df[features]\n",
    "df_y = full_df['latency']\n",
    "\n",
    "# Use only one feature\n",
    "#diabetes_X = diabetes_X[:, np.newaxis, 2]\n",
    "\n",
    "# Split the data into training/testing sets\n",
    "X_train, X_rem, y_train, y_rem = train_test_split(df_X, df_y, train_size=0.8, random_state=42)\n",
    "\n",
    "X_valid, X_test, y_valid, y_test = train_test_split(X_rem, y_rem, test_size=0.5)\n",
    "\n",
    "# Create linear regression object\n",
    "regr = linear_model.LinearRegression()\n",
    "\n",
    "# Train the model using the training sets\n",
    "regr.fit(X_train, y_train)\n",
    "\n",
    "# Make predictions using the testing set\n",
    "y_pred = regr.predict(X_test)\n",
    "\n",
    "# The coefficients\n",
    "print(\"Coefficients: \\n\", regr.coef_)\n",
    "# The mean squared error\n",
    "print(\"Mean squared error: %.2f\" % mean_squared_error(y_test, y_pred))\n",
    "# The coefficient of determination: 1 is perfect prediction\n",
    "print(\"Coefficient of determination: %.2f\" % r2_score(y_test, y_pred))"
   ]
  },
  {
   "cell_type": "code",
   "execution_count": null,
   "metadata": {},
   "outputs": [],
   "source": []
  }
 ],
 "metadata": {
  "kernelspec": {
   "display_name": "Python 3",
   "language": "python",
   "name": "python3"
  },
  "language_info": {
   "codemirror_mode": {
    "name": "ipython",
    "version": 3
   },
   "file_extension": ".py",
   "mimetype": "text/x-python",
   "name": "python",
   "nbconvert_exporter": "python",
   "pygments_lexer": "ipython3",
   "version": "3.7.4"
  }
 },
 "nbformat": 4,
 "nbformat_minor": 2
}
